{
 "cells": [
  {
   "cell_type": "markdown",
   "id": "83fcf31f",
   "metadata": {},
   "source": [
    "Ans1:\n",
    "\n",
    "MongoDB is a popular NoSQL, non-relational database system that stores data in JSON-like documents. Non-relational databases are designed to handle unstructured or semi-structured data efficiently. They offer flexible schemas, horizontal scaling, and faster performance compared to SQL databases, which use fixed schemas and vertical scaling. MongoDB is preferred over SQL databases in scenarios where there is a need for high scalability, rapid development, and handling of large amounts of complex, dynamic data, such as social media, IoT, real-time analytics, and content management systems. Its ability to store and process diverse data types with ease makes it a suitable choice for modern applications."
   ]
  },
  {
   "cell_type": "markdown",
   "id": "bae90ead",
   "metadata": {},
   "source": [
    "Ans2:\n",
    "    \n",
    "    MongoDB offers several key features that make it a popular choice for modern applications:\n",
    "\n",
    "1. Document-oriented: MongoDB stores data in flexible JSON-like documents, allowing easy representation and handling of complex, hierarchical data structures.\n",
    "\n",
    "2. Scalability: It supports horizontal scaling, distributing data across multiple servers, ensuring high performance and accommodating growing datasets.\n",
    "\n",
    "3. High Availability: MongoDB provides replica sets, automatically maintaining redundant copies of data to ensure fault tolerance and continuous availability.\n",
    "\n",
    "4. Flexibility: The schema-less nature allows dynamic updates to documents, making it adaptable to evolving data models.\n",
    "\n",
    "5. Rich Query Language: MongoDB's query language supports complex queries, indexing, and aggregation for efficient data retrieval and analysis.\n",
    "\n",
    "6. Geospatial Capabilities: It includes geospatial indexing and queries, enabling location-based applications.\n",
    "\n",
    "7. Ad Hoc Queries: MongoDB allows ad hoc queries on any field, facilitating agile development and data exploration.\n",
    "\n",
    "8. Automatic Sharding: It offers automatic data partitioning across shards to support massive datasets and high write/read loads.\n",
    "\n",
    "9. Native Replication: Data replication across distributed nodes ensures data redundancy and failover.\n",
    "\n",
    "10. JSON/BSON Support: BSON, a binary representation of JSON, offers efficient storage and serialization of data."
   ]
  },
  {
   "cell_type": "markdown",
   "id": "3106a945",
   "metadata": {},
   "source": [
    "Ans3:\n",
    "    "
   ]
  },
  {
   "cell_type": "code",
   "execution_count": null,
   "id": "c9bcf35a",
   "metadata": {},
   "outputs": [],
   "source": [
    "import pymongo\n",
    "\n",
    "# Replace 'mongodb://localhost:27017/' with your MongoDB connection string if needed.\n",
    "client = pymongo.MongoClient('mongodb://localhost:27017/')\n",
    "\n",
    "# Replace 'mydatabase' with the desired database name.\n",
    "mydb = client['mydatabase']\n",
    "\n",
    "# Replace 'mycollection' with the desired collection name.\n",
    "mycollection = mydb['mycollection']\n",
    "\n",
    "# Data to insert into the collection.\n",
    "data = {'name': 'John Doe', 'age': 30, 'email': 'john@example.com'}\n",
    "\n",
    "# Insert data into the collection.\n",
    "inserted_record = mycollection.insert_one(data)\n",
    "\n",
    "# Print the ID of the inserted record.\n",
    "print(\"Inserted Record ID:\", inserted_record.inserted_id)\n"
   ]
  },
  {
   "cell_type": "markdown",
   "id": "7fd564f1",
   "metadata": {},
   "source": [
    "Ans4"
   ]
  },
  {
   "cell_type": "code",
   "execution_count": null,
   "id": "c42322ab",
   "metadata": {},
   "outputs": [],
   "source": [
    "import pymongo\n",
    "\n",
    "# Assuming the connection and collection 'mycollection' are already established.\n",
    "\n",
    "# Insert one record\n",
    "data_one = {'name': 'Alice', 'age': 25, 'email': 'alice@example.com'}\n",
    "inserted_one = mycollection.insert_one(data_one)\n",
    "\n",
    "# Insert many records\n",
    "data_many = [\n",
    "    {'name': 'Bob', 'age': 28, 'email': 'bob@example.com'},\n",
    "    {'name': 'Charlie', 'age': 22, 'email': 'charlie@example.com'}\n",
    "]\n",
    "inserted_many = mycollection.insert_many(data_many)\n",
    "\n",
    "# Print the inserted record using find_one()\n",
    "print(\"Inserted Record:\")\n",
    "print(mycollection.find_one({'_id': inserted_one.inserted_id}))\n",
    "\n",
    "# Print all inserted records using find()\n",
    "print(\"All Inserted Records:\")\n",
    "for record in mycollection.find():\n",
    "    print(record)\n"
   ]
  },
  {
   "cell_type": "markdown",
   "id": "a519fb91",
   "metadata": {},
   "source": [
    "Ans5:\n",
    "\n",
    "The find() method in MongoDB allows you to query the database and retrieve documents that match specific criteria. You can pass a query filter as an argument to find(), which will return a cursor to the matched documents. The cursor can be iterated to access the documents."
   ]
  },
  {
   "cell_type": "code",
   "execution_count": null,
   "id": "ba626bce",
   "metadata": {},
   "outputs": [],
   "source": [
    "import pymongo\n",
    "\n",
    "# Assuming the connection and collection 'mycollection' are already established.\n",
    "\n",
    "# Query filter to find documents where age is greater than 25\n",
    "query_filter = {'age': {'$gt': 25}}\n",
    "\n",
    "# Use find() to retrieve matching documents\n",
    "cursor = mycollection.find(query_filter)\n",
    "\n",
    "# Iterate through the cursor to access the documents\n",
    "print(\"Matching Documents:\")\n",
    "for document in cursor:\n",
    "    print(document)\n"
   ]
  },
  {
   "cell_type": "markdown",
   "id": "c7a10849",
   "metadata": {},
   "source": [
    "Ans6:\n",
    "    \n",
    "The sort() method in MongoDB is used to sort the documents in a collection based on one or more fields in ascending or descending order. By default, it sorts in ascending order. You can specify the sorting order by providing a dictionary with field names as keys and 1 for ascending or -1 for descending as values.\n",
    "\n",
    "Example to demonstrate sorting:\n",
    "\n",
    "Let's assume we have a collection named 'books' with documents containing book titles and their corresponding publication years. To sort the books by publication year in descending order:"
   ]
  },
  {
   "cell_type": "code",
   "execution_count": null,
   "id": "29291fde",
   "metadata": {},
   "outputs": [],
   "source": [
    "import pymongo\n",
    "\n",
    "# Assuming the connection and collection 'books' are already established.\n",
    "\n",
    "# Sort by 'publication_year' field in descending order (-1).\n",
    "sorted_books = books.find().sort('publication_year', -1)\n",
    "\n",
    "# Print the sorted books.\n",
    "for book in sorted_books:\n",
    "    print(book['title'], \"-\", book['publication_year'])\n"
   ]
  },
  {
   "cell_type": "markdown",
   "id": "4bac90e9",
   "metadata": {},
   "source": [
    "Ans7:\n",
    "    \n",
    "`delete_one()`, `delete_many()`, and `drop()` are methods in MongoDB used for data removal and collection deletion:\n",
    "\n",
    "1. `delete_one(filter)`: Deletes a single document that matches the specified filter. Useful when you want to remove one specific record from a collection.\n",
    "\n",
    "2. `delete_many(filter)`: Removes all documents that match the specified filter. Ideal for deleting multiple records based on a given condition.\n",
    "\n",
    "3. `drop()`: Completely removes an entire collection from the database. Useful when you want to delete a collection along with all its documents.\n",
    "\n",
    "These methods provide a way to manage data efficiently and securely in MongoDB, allowing developers to control data deletion operations with precision.\n",
    "    "
   ]
  }
 ],
 "metadata": {
  "kernelspec": {
   "display_name": "Python 3 (ipykernel)",
   "language": "python",
   "name": "python3"
  },
  "language_info": {
   "codemirror_mode": {
    "name": "ipython",
    "version": 3
   },
   "file_extension": ".py",
   "mimetype": "text/x-python",
   "name": "python",
   "nbconvert_exporter": "python",
   "pygments_lexer": "ipython3",
   "version": "3.9.13"
  }
 },
 "nbformat": 4,
 "nbformat_minor": 5
}
